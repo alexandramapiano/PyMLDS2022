{
  "nbformat": 4,
  "nbformat_minor": 0,
  "metadata": {
    "colab": {
      "provenance": [],
      "authorship_tag": "ABX9TyOJ4Y/NE1IP4+1ydeCK+WqV",
      "include_colab_link": true
    },
    "kernelspec": {
      "name": "python3",
      "display_name": "Python 3"
    },
    "language_info": {
      "name": "python"
    }
  },
  "cells": [
    {
      "cell_type": "markdown",
      "metadata": {
        "id": "view-in-github",
        "colab_type": "text"
      },
      "source": [
        "<a href=\"https://colab.research.google.com/github/alexandramapiano/PyMLDS2022/blob/main/TheEyeProjectLS.ipynb\" target=\"_parent\"><img src=\"https://colab.research.google.com/assets/colab-badge.svg\" alt=\"Open In Colab\"/></a>"
      ]
    },
    {
      "cell_type": "code",
      "execution_count": null,
      "metadata": {
        "colab": {
          "base_uri": "https://localhost:8080/"
        },
        "id": "OxVv_hmjcUtV",
        "outputId": "ac3b053a-e51b-45bd-a7f2-c6a14acefc55"
      },
      "outputs": [
        {
          "output_type": "stream",
          "name": "stdout",
          "text": [
            "Are you experiencing headaches? Please enter 0 for none, or rate it from 1 to 10, with 10 being severe.\n",
            "\u001b[92m \u001b[1m Please only enter numbers according to the instructions! \u001b[0m2\n",
            "Are you experiencing headaches? Please enter 0 for none, or rate it from 1 to 10, with 10 being severe.10\n",
            "Are you experiencing nausea? Please enter 0 for none, or rate it from 1 to 10, with 10 being severe.10\n",
            "Are you seeing halos? These are bright circles around lights. Please enter 0 for none, or rate it from 1 to 10, with 10 seeing the most halos.0\n",
            "Do you have a family of cataracts or any type of glaucoma? Please enter 0 for none, or 1 for yes.0\n",
            "Is your vision blurry? Enter 0 if not blurry, or rate it from 1 to 10, with 10 being blurriest.10\n",
            "Have you noticed any blind spots in your side vision? Enter 0 for none, 1 for less than 3, 2 for a few, and 3 for many.0\n",
            "Do you suffer from high blood pressure? 0 for none, 1 for yes1\n",
            "Do you feel any eye pains? 0 for none, or rate from 1 to 10, with 10 being the most pain.0\n",
            "Do you suffer from low blood pressure? 0 for No, 1 for Yes.0\n",
            "Do you still see what's in the center of your vision? If yes, enter 0. If no, please rate it from 1 to 10, with 10 seeing nothing.0\n",
            "[2]\n",
            "[2]\n",
            "[4]\n",
            "[3]\n",
            "closed angle glaucoma nb\n",
            "closed angle glaucoma kn\n",
            "cataracts tr\n",
            "normal tension glaucoma mlp\n"
          ]
        },
        {
          "output_type": "stream",
          "name": "stderr",
          "text": [
            "/usr/local/lib/python3.8/dist-packages/sklearn/neural_network/_multilayer_perceptron.py:692: ConvergenceWarning: Stochastic Optimizer: Maximum iterations (200) reached and the optimization hasn't converged yet.\n",
            "  warnings.warn(\n"
          ]
        }
      ],
      "source": [
        "import sklearn\n",
        "from sklearn.naive_bayes import GaussianNB\n",
        "from sklearn.metrics import accuracy_score\n",
        "from sklearn.metrics import precision_score\n",
        "from sklearn.neighbors import KNeighborsClassifier \n",
        "from sklearn.tree import DecisionTreeClassifier, plot_tree\n",
        "from sklearn.neural_network import MLPClassifier  #multi layer perception classifier\n",
        "\n",
        "import matplotlib.pyplot as plt\n",
        "import numpy as np\n",
        "\n",
        "var = False\n",
        "\n",
        "while var==False:\n",
        "  try:\n",
        "    headacheS = int(input(\"Are you experiencing headaches? Please enter 0 for none, or rate it from 1 to 10, with 10 being severe.\")) #\n",
        "    nauseaS = int(input(\"Are you experiencing nausea? Please enter 0 for none, or rate it from 1 to 10, with 10 being severe.\")) #\n",
        "    haloS = int(input(\"Are you seeing halos? These are bright circles around lights. Please enter 0 for none, or rate it from 1 to 10, with 10 seeing the most halos.\"))\n",
        "    familyHisotryS = int(input(\"Do you have a family history of cataracts or any type of glaucoma? Please enter 0 for none, or 1 for yes.\"))\n",
        "    blurryVisionS = int(input(\"Is your vision blurry? Enter 0 if not blurry, or rate it from 1 to 10, with 10 being blurriest.\"))\n",
        "    blindSpotS = int(input(\"Have you noticed any blind spots in your side vision? Enter 0 for none, 1 for less than 3, 2 for a few, and 3 for many.\"))\n",
        "    hypertensionS = int(input(\"Do you suffer from high blood pressure? 0 for none, 1 for yes\"))\n",
        "    eyePainS = int(input(\"Do you feel any eye pains? 0 for none, or rate from 1 to 10, with 10 being the most pain.\"))\n",
        "    hypotensionS = int(input(\"Do you suffer from low blood pressure? 0 for No, 1 for Yes.\"))\n",
        "    CentralLosS = int(input(\"Do you still see what's in the center of your vision? If yes, enter 0. If no, please rate it from 1 to 10, with 10 seeing nothing.\"))\n",
        "    var = True\n",
        "  except:\n",
        "    print('\\033[92m','\\033[1m',\"Please only enter numbers according to the instructions!\",'\\033[0m2')\n",
        "\n",
        "patientData = np.array([[headacheS,nauseaS,haloS,familyHisotryS,blurryVisionS,blindSpotS,hypertensionS,eyePainS,hypotensionS,CentralLosS]])\n",
        "\n",
        "features = np.array([[8,7,3,1,6,1,0,9,0,0],[0,0,1,1,3,3,1,0,0,2],[0,0,4,1,6,0,0,1,0,0],[8,3,0,0,4,2,0,0,1,0],[0,0,0,0,0,0,0,0,0,0],[0,0,0,1,6,0,0,0,0,0],[2,1,2,1,6,3,1,9,0,0],[1,0,1,1,8,2,1,0,0,5],[0,0,3,0,9,1,0,0,0,0],[6,0,1,0,8,1,1,0,1,2],[1,0,0,0,0,0,0,0,0,0],[0,0,1,0,3,1,1,0,0,0],[4,0,0,0,3,0,0,0,1,0],[0,0,0,0,3,0,0,5,0,0],[0,0,7,0,9,0,0,0,0,0],[4,4,0,0,7,0,6,0,0,0],[1,0,0,0,6,0,0,0,0,0],[0,0,3,0,6,0,0,0,0,0],[5,0,0,0,6,0,1,5,0,0],[2,0,0,0,5,0,0,0,1,0],[0,0,0,0,0,0,0,0,0,0]])\n",
        "labels = np.array([2,1,5,3,0,4,1,4,4,3,0,1,3,5,4,2,4,4,5,3,0])\n",
        "\n",
        "NBclassifier = GaussianNB() # parameters for later, GNB\n",
        "NBclassifier.fit(features, labels)\n",
        "##\n",
        "KNNclassifier = KNeighborsClassifier(n_neighbors=3)\n",
        "KNNclassifier.fit(features, labels)\n",
        "##\n",
        "TRclassifier = DecisionTreeClassifier()\n",
        "TRclassifier.fit(features, labels)\n",
        "##\n",
        "MLclassifier = MLPClassifier(hidden_layer_sizes=20)\n",
        "MLclassifier.fit(features, labels)\n",
        "########\n",
        "NBresult = NBclassifier.predict(patientData)\n",
        "print(NBresult)\n",
        "##\n",
        "KNresult = KNNclassifier.predict(patientData)\n",
        "print(KNresult)\n",
        "##\n",
        "TRresult = TRclassifier.predict(patientData)\n",
        "print(TRresult)\n",
        "##\n",
        "MLresult = MLclassifier.predict(patientData)\n",
        "print(MLresult)\n",
        "####\n",
        "disease = {0:\"no disease\", 1:\"open angle glaucoma\", 2:\"closed angle glaucoma\", 3:\"normal tension glaucoma\", 4:\"cataracts\", 5:\"diabetic retinopathy\"}\n",
        "print(disease[NBresult[0]],\"nb\")\n",
        "print(disease[KNresult[0]],\"kn\")\n",
        "print(disease[TRresult[0]],\"tr\")\n",
        "print(disease[MLresult[0]],\"mlp\")\n",
        "\n",
        "#plot_tree(TRclassifier)"
      ]
    },
    {
      "cell_type": "code",
      "source": [
        "testData = np.array([[0,0,0,0,1,7,1,0,0,2],[0,0,0,1,1,4,0,0,0,0],[0,0,0,0,8,0,1,0,0,0],[5,4,0,7,0,1,0,0,0,0],[0,0,0,0,7,0,0,0,0,0],[0,0,0,1,9,0,0,0,1,0],[0,0,5,0,5,0,0,0,0,0],[0,0,0,0,9,0,0,0,0,0],[0,0,0,0,7,0,0,5,0,5],[0,0,0,0,5,0,0,0,0,0],[0,1,0,0,0,0,0,0,0,0],[0,0,0,0,0,0,1,0,0,0]])\n",
        "testLabels = np.array([1,1,2,2,3,3,4,4,5,5,0,0])\n",
        "\n",
        "features = np.array([[8,7,3,1,6,1,0,9,0,0],[0,0,1,1,3,3,1,0,0,2],[0,0,4,1,6,0,0,1,0,0],[8,3,0,0,4,2,0,0,1,0],[0,0,0,0,0,0,0,0,0,0],[0,0,0,1,6,0,0,0,0,0],[2,1,2,1,6,3,1,9,0,0],[1,0,1,1,8,2,1,0,0,5],[0,0,3,0,9,1,0,0,0,0],[6,0,1,0,8,1,1,0,1,2],[1,0,0,0,0,0,0,0,0,0],[0,0,1,0,3,1,1,0,0,0],[4,0,0,0,3,0,0,0,1,0],[0,0,0,0,3,0,0,5,0,0],[0,0,7,0,9,0,0,0,0,0],[4,4,0,0,7,0,6,0,0,0],[1,0,0,0,6,0,0,0,0,0],[0,0,3,0,6,0,0,0,0,0],[5,0,0,0,6,0,1,5,0,0],[2,0,0,0,5,0,0,0,1,0],[0,0,0,0,0,0,0,0,0,0]])\n",
        "labels = np.array([2,1,5,3,0,4,1,4,4,3,0,1,3,5,4,2,4,4,5,3,0])\n",
        "\n",
        "NBclassifier = GaussianNB() # parameters for later, GNB\n",
        "NBclassifier.fit(features, labels)\n",
        "##\n",
        "KNNclassifier = KNeighborsClassifier(n_neighbors=3)\n",
        "KNNclassifier.fit(features, labels)\n",
        "##\n",
        "TRclassifier = DecisionTreeClassifier()\n",
        "TRclassifier.fit(features, labels)\n",
        "##\n",
        "MLclassifier = MLPClassifier(hidden_layer_sizes=20)\n",
        "MLclassifier.fit(features, labels)\n",
        "######## do print if i want to see the acc\n",
        "NBresult = NBclassifier.predict(testData)\n",
        "print(NBresult)\n",
        "NBacc = (accuracy_score(NBresult, testLabels))\n",
        "precNB = precision_score(testLabels, NBresult, average=None)\n",
        "print(precNB)\n",
        "##\n",
        "KNresult = KNNclassifier.predict(testData)\n",
        "print(KNresult)\n",
        "KNacc = (accuracy_score(KNresult, testLabels))\n",
        "precKN = precision_score(testLabels, KNresult, average=None)\n",
        "print(precKN)\n",
        "##\n",
        "TRresult = TRclassifier.predict(testData)\n",
        "print(TRresult)\n",
        "TRacc = (accuracy_score(TRresult, testLabels))\n",
        "precTR = precision_score(testLabels, TRresult, average=None)\n",
        "print(precTR)\n",
        "##\n",
        "MLresult = MLclassifier.predict(testData)\n",
        "print(MLresult)\n",
        "MLacc = (accuracy_score(MLresult, testLabels))\n",
        "precML = precision_score(testLabels, MLresult, average=None)\n",
        "print(precML)\n",
        "####\n",
        "acclist = [NBacc, KNacc, TRacc, MLacc]\n",
        "disease = {0:\"no disease\", 1:\"open angle glaucoma\", 2:\"closed angle glaucoma\", 3:\"normal tension glaucoma\", 4:\"cataracts\", 5:\"diabetic retinopathy\"}\n",
        "\n",
        "resultNB = []\n",
        "for s in NBresult:\n",
        "  resultNB.append(disease[s])\n",
        "print(resultNB)\n",
        "\n",
        "resultKN = []\n",
        "for s in KNresult:\n",
        "  resultKN.append(disease[s])\n",
        "print(resultKN)\n",
        "\n",
        "resultTR = []\n",
        "for s in TRresult:\n",
        "  resultTR.append(disease[s])\n",
        "print(resultTR)\n",
        "\n",
        "resultML = []\n",
        "for s in MLresult:\n",
        "  resultML.append(disease[s])\n",
        "print(resultML)\n",
        "\n",
        "fig = plt.figure()\n",
        "plt.bar([\"NBclassifier\", \"KNclassifier\",\"TRclassifier\", \"MLclassifier\"], acclist, color=\"aquamarine\", width=0.5)\n",
        "plt.show()\n",
        "  \n",
        "morefig = plt.figure() # instead of 1,2,3,4,5,0, you can put the names of diseases instead\n",
        "plt.bar([.8,1.8,2.8,3.8,4.8,5.8], precNB, color=\"mediumspringgreen\", width=0.5)\n",
        "plt.yticks(np.arange(0,1.5,0.1))\n",
        "\n",
        "plt.bar([1,2,3,4,5,0], precKN,color=\"palegreen\", width=0.5)\n",
        "plt.yticks(np.arange(0,1.5,0.1))\n",
        "plt.show()\n",
        "plt.bar([1,2,3,4,5,0], precTR,color=\"mediumseagreen\", width=0.5)\n",
        "plt.yticks(np.arange(0,1.52,0.1))\n",
        "plt.show()\n",
        "plt.bar([1,2,3,4,5,0], precML,color=\"seagreen\", width=0.5)\n",
        "plt.yticks(np.arange(0,1.5,0.1))\n",
        "plt.show()"
      ],
      "metadata": {
        "colab": {
          "base_uri": "https://localhost:8080/",
          "height": 1000
        },
        "id": "2qqxBvnpdZUg",
        "outputId": "96980377-d955-455a-ebee-d94be04d621c"
      },
      "execution_count": null,
      "outputs": [
        {
          "output_type": "stream",
          "name": "stdout",
          "text": [
            "[1 4 5 2 5 5 5 5 1 5 2 5]\n",
            "[0.         0.5        0.5        0.         0.         0.14285714]\n",
            "[1 1 4 3 4 4 4 4 4 4 0 0]\n",
            "[1.         1.         0.         0.         0.28571429 0.        ]\n",
            "[0 0 4 0 4 3 4 4 5 4 0 0]\n",
            "[0.4 0.  0.  1.  0.4 1. ]\n",
            "[1 1 4 0 4 4 4 4 4 4 0 0]\n",
            "[0.66666667 1.         0.         0.         0.28571429 0.        ]\n",
            "['open angle glaucoma', 'cataracts', 'diabetic retinopathy', 'closed angle glaucoma', 'diabetic retinopathy', 'diabetic retinopathy', 'diabetic retinopathy', 'diabetic retinopathy', 'open angle glaucoma', 'diabetic retinopathy', 'closed angle glaucoma', 'diabetic retinopathy']\n",
            "['open angle glaucoma', 'open angle glaucoma', 'cataracts', 'normal tension glaucoma', 'cataracts', 'cataracts', 'cataracts', 'cataracts', 'cataracts', 'cataracts', 'no disease', 'no disease']\n",
            "['no disease', 'no disease', 'cataracts', 'no disease', 'cataracts', 'normal tension glaucoma', 'cataracts', 'cataracts', 'diabetic retinopathy', 'cataracts', 'no disease', 'no disease']\n",
            "['open angle glaucoma', 'open angle glaucoma', 'cataracts', 'no disease', 'cataracts', 'cataracts', 'cataracts', 'cataracts', 'cataracts', 'cataracts', 'no disease', 'no disease']\n"
          ]
        },
        {
          "output_type": "stream",
          "name": "stderr",
          "text": [
            "/usr/local/lib/python3.8/dist-packages/sklearn/neural_network/_multilayer_perceptron.py:692: ConvergenceWarning: Stochastic Optimizer: Maximum iterations (200) reached and the optimization hasn't converged yet.\n",
            "  warnings.warn(\n",
            "/usr/local/lib/python3.8/dist-packages/sklearn/metrics/_classification.py:1318: UndefinedMetricWarning: Precision is ill-defined and being set to 0.0 in labels with no predicted samples. Use `zero_division` parameter to control this behavior.\n",
            "  _warn_prf(average, modifier, msg_start, len(result))\n",
            "/usr/local/lib/python3.8/dist-packages/sklearn/metrics/_classification.py:1318: UndefinedMetricWarning: Precision is ill-defined and being set to 0.0 in labels with no predicted samples. Use `zero_division` parameter to control this behavior.\n",
            "  _warn_prf(average, modifier, msg_start, len(result))\n",
            "/usr/local/lib/python3.8/dist-packages/sklearn/metrics/_classification.py:1318: UndefinedMetricWarning: Precision is ill-defined and being set to 0.0 in labels with no predicted samples. Use `zero_division` parameter to control this behavior.\n",
            "  _warn_prf(average, modifier, msg_start, len(result))\n",
            "/usr/local/lib/python3.8/dist-packages/sklearn/metrics/_classification.py:1318: UndefinedMetricWarning: Precision is ill-defined and being set to 0.0 in labels with no predicted samples. Use `zero_division` parameter to control this behavior.\n",
            "  _warn_prf(average, modifier, msg_start, len(result))\n"
          ]
        },
        {
          "output_type": "display_data",
          "data": {
            "text/plain": [
              "<Figure size 432x288 with 1 Axes>"
            ],
            "image/png": "[encoded data removed]"
          },
          "metadata": {
            "needs_background": "light"
          }
        },
        {
          "output_type": "display_data",
          "data": {
            "text/plain": [
              "<Figure size 432x288 with 1 Axes>"
            ],
            "image/png": "[encoded data removed]"
          },
          "metadata": {
            "needs_background": "light"
          }
        },
        {
          "output_type": "display_data",
          "data": {
            "text/plain": [
              "<Figure size 432x288 with 1 Axes>"
            ],
            "image/png": "[encoded data removed]"
          },
          "metadata": {
            "needs_background": "light"
          }
        },
        {
          "output_type": "display_data",
          "data": {
            "text/plain": [
              "<Figure size 432x288 with 1 Axes>"
            ],
            "image/png": "[encoded data removed]"
          },
          "metadata": {
            "needs_background": "light"
          }
        }
      ]
    },
    {
      "cell_type": "code",
      "source": [
        "# 0 - no disease\n",
        "# 1 - open angle glaucoma\n",
        "# 2 - closed angle glaucoma\n",
        "# 3 - normal tension glaucoma (migraines/low blood pressure/ slightly blurry vision [1-3] a risk factor)\n",
        "# 4 - cataracts (would be blurry vision, but not accompanied by any other symptoms)\n",
        "# 5 - diabetic retinopathy [patchy vision, floaters, eye pain, difficulty seeing in the dark]\n",
        "\n",
        "#symptoms=[\"headache\",\"nausea\", \"halos\", \"family history\" (0/1),\"blurry vision\", \"blind spots in side vision\" (number), \"hypertension\" (number),\"eye pain\"]"
      ],
      "metadata": {
        "id": "Jxb2wSG4ZfqP"
      },
      "execution_count": null,
      "outputs": []
    },
    {
      "cell_type": "markdown",
      "source": [
        "01/27/23\n",
        "\n",
        "*   dictionary that maps disease to its number\n",
        "*   algorithmns and testing networks\n",
        "--------------------\n",
        "*   clean up input stuff\n",
        "*   analysis\n",
        "*   which data sets, have diff examples, make graphs\n",
        "-------------------\n",
        "HEADER = '\\033[95m' OKBLUE = '\\033[94m' OKCYAN = '\\033[96m' OKGREEN = '\\033[92m' WARNING = '\\033[93m' FAIL = '\\033[91m' ENDC = '\\033[0m' BOLD = '\\033[1m' UNDERLINE = '\\033[4m' "
      ],
      "metadata": {
        "id": "_ATJ-pK5xNKI"
      }
    },
    {
      "cell_type": "markdown",
      "source": [
        "01/26/23\n",
        "\n",
        "beginning by coming up with symptoms and diseases\n",
        "age is a factor\n",
        "\n",
        "more example patients\n",
        "\n",
        "finish the script \n",
        "\n",
        "next time: record data, try diff networks, writeups"
      ],
      "metadata": {
        "id": "KmX-prG9RudR"
      }
    },
    {
      "cell_type": "code",
      "source": [
        "# symptoms = [\"headache\",\"nausea\", \"halos\", \"family history\" (0/1),\"blurry vision\", \n",
        "# each has 10 ratings\n",
        "# \"blind spots in side vision\" (number), \"hypertension\" (number)]\n",
        "#everything not classified is based on the intensity scale 1-10\n",
        "# 01/26/23"
      ],
      "metadata": {
        "id": "va5BZpMxSI7I"
      },
      "execution_count": null,
      "outputs": []
    },
    {
      "cell_type": "code",
      "source": [
        "# 01/20/2023\n",
        "# complicating factors: family history (genetics), hypertension (systolic/upper num>130 || diastolic/lower num > 80),\n",
        "# Slightly blurry vision, blind spots in side vision \n",
        "# (might have to ask patient to check it though, as this factor is not really noticeable)\n",
        "# severe factors: headache, eye pain, redness, halos around lights"
      ],
      "metadata": {
        "id": "6wV-S7e9RrjN"
      },
      "execution_count": null,
      "outputs": []
    }
  ]
}